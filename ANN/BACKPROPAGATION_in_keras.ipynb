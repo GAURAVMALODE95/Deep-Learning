{
  "nbformat": 4,
  "nbformat_minor": 0,
  "metadata": {
    "colab": {
      "provenance": []
    },
    "kernelspec": {
      "name": "python3",
      "display_name": "Python 3"
    },
    "language_info": {
      "name": "python"
    }
  },
  "cells": [
    {
      "cell_type": "code",
      "execution_count": 1,
      "metadata": {
        "id": "WCzF9rPd1MGx"
      },
      "outputs": [],
      "source": [
        "import pandas as pd\n",
        "import numpy as np"
      ]
    },
    {
      "cell_type": "code",
      "source": [
        "df=pd.DataFrame([[8,8,1],[7,9,1],[6,10,0],[5,5,0]],columns=['cgpa','score','placed'])"
      ],
      "metadata": {
        "id": "r_7g8P2E1VNj"
      },
      "execution_count": 2,
      "outputs": []
    },
    {
      "cell_type": "code",
      "source": [
        "df.head()"
      ],
      "metadata": {
        "colab": {
          "base_uri": "https://localhost:8080/",
          "height": 175
        },
        "id": "JxMCZ6VF1reX",
        "outputId": "fa213d5e-fc40-4ccc-a296-3390bb82af28"
      },
      "execution_count": 3,
      "outputs": [
        {
          "output_type": "execute_result",
          "data": {
            "text/plain": [
              "   cgpa  score  placed\n",
              "0     8      8       1\n",
              "1     7      9       1\n",
              "2     6     10       0\n",
              "3     5      5       0"
            ],
            "text/html": [
              "\n",
              "  <div id=\"df-600206d3-7c34-48fc-98e9-95c12ee71156\">\n",
              "    <div class=\"colab-df-container\">\n",
              "      <div>\n",
              "<style scoped>\n",
              "    .dataframe tbody tr th:only-of-type {\n",
              "        vertical-align: middle;\n",
              "    }\n",
              "\n",
              "    .dataframe tbody tr th {\n",
              "        vertical-align: top;\n",
              "    }\n",
              "\n",
              "    .dataframe thead th {\n",
              "        text-align: right;\n",
              "    }\n",
              "</style>\n",
              "<table border=\"1\" class=\"dataframe\">\n",
              "  <thead>\n",
              "    <tr style=\"text-align: right;\">\n",
              "      <th></th>\n",
              "      <th>cgpa</th>\n",
              "      <th>score</th>\n",
              "      <th>placed</th>\n",
              "    </tr>\n",
              "  </thead>\n",
              "  <tbody>\n",
              "    <tr>\n",
              "      <th>0</th>\n",
              "      <td>8</td>\n",
              "      <td>8</td>\n",
              "      <td>1</td>\n",
              "    </tr>\n",
              "    <tr>\n",
              "      <th>1</th>\n",
              "      <td>7</td>\n",
              "      <td>9</td>\n",
              "      <td>1</td>\n",
              "    </tr>\n",
              "    <tr>\n",
              "      <th>2</th>\n",
              "      <td>6</td>\n",
              "      <td>10</td>\n",
              "      <td>0</td>\n",
              "    </tr>\n",
              "    <tr>\n",
              "      <th>3</th>\n",
              "      <td>5</td>\n",
              "      <td>5</td>\n",
              "      <td>0</td>\n",
              "    </tr>\n",
              "  </tbody>\n",
              "</table>\n",
              "</div>\n",
              "      <button class=\"colab-df-convert\" onclick=\"convertToInteractive('df-600206d3-7c34-48fc-98e9-95c12ee71156')\"\n",
              "              title=\"Convert this dataframe to an interactive table.\"\n",
              "              style=\"display:none;\">\n",
              "        \n",
              "  <svg xmlns=\"http://www.w3.org/2000/svg\" height=\"24px\"viewBox=\"0 0 24 24\"\n",
              "       width=\"24px\">\n",
              "    <path d=\"M0 0h24v24H0V0z\" fill=\"none\"/>\n",
              "    <path d=\"M18.56 5.44l.94 2.06.94-2.06 2.06-.94-2.06-.94-.94-2.06-.94 2.06-2.06.94zm-11 1L8.5 8.5l.94-2.06 2.06-.94-2.06-.94L8.5 2.5l-.94 2.06-2.06.94zm10 10l.94 2.06.94-2.06 2.06-.94-2.06-.94-.94-2.06-.94 2.06-2.06.94z\"/><path d=\"M17.41 7.96l-1.37-1.37c-.4-.4-.92-.59-1.43-.59-.52 0-1.04.2-1.43.59L10.3 9.45l-7.72 7.72c-.78.78-.78 2.05 0 2.83L4 21.41c.39.39.9.59 1.41.59.51 0 1.02-.2 1.41-.59l7.78-7.78 2.81-2.81c.8-.78.8-2.07 0-2.86zM5.41 20L4 18.59l7.72-7.72 1.47 1.35L5.41 20z\"/>\n",
              "  </svg>\n",
              "      </button>\n",
              "      \n",
              "  <style>\n",
              "    .colab-df-container {\n",
              "      display:flex;\n",
              "      flex-wrap:wrap;\n",
              "      gap: 12px;\n",
              "    }\n",
              "\n",
              "    .colab-df-convert {\n",
              "      background-color: #E8F0FE;\n",
              "      border: none;\n",
              "      border-radius: 50%;\n",
              "      cursor: pointer;\n",
              "      display: none;\n",
              "      fill: #1967D2;\n",
              "      height: 32px;\n",
              "      padding: 0 0 0 0;\n",
              "      width: 32px;\n",
              "    }\n",
              "\n",
              "    .colab-df-convert:hover {\n",
              "      background-color: #E2EBFA;\n",
              "      box-shadow: 0px 1px 2px rgba(60, 64, 67, 0.3), 0px 1px 3px 1px rgba(60, 64, 67, 0.15);\n",
              "      fill: #174EA6;\n",
              "    }\n",
              "\n",
              "    [theme=dark] .colab-df-convert {\n",
              "      background-color: #3B4455;\n",
              "      fill: #D2E3FC;\n",
              "    }\n",
              "\n",
              "    [theme=dark] .colab-df-convert:hover {\n",
              "      background-color: #434B5C;\n",
              "      box-shadow: 0px 1px 3px 1px rgba(0, 0, 0, 0.15);\n",
              "      filter: drop-shadow(0px 1px 2px rgba(0, 0, 0, 0.3));\n",
              "      fill: #FFFFFF;\n",
              "    }\n",
              "  </style>\n",
              "\n",
              "      <script>\n",
              "        const buttonEl =\n",
              "          document.querySelector('#df-600206d3-7c34-48fc-98e9-95c12ee71156 button.colab-df-convert');\n",
              "        buttonEl.style.display =\n",
              "          google.colab.kernel.accessAllowed ? 'block' : 'none';\n",
              "\n",
              "        async function convertToInteractive(key) {\n",
              "          const element = document.querySelector('#df-600206d3-7c34-48fc-98e9-95c12ee71156');\n",
              "          const dataTable =\n",
              "            await google.colab.kernel.invokeFunction('convertToInteractive',\n",
              "                                                     [key], {});\n",
              "          if (!dataTable) return;\n",
              "\n",
              "          const docLinkHtml = 'Like what you see? Visit the ' +\n",
              "            '<a target=\"_blank\" href=https://colab.research.google.com/notebooks/data_table.ipynb>data table notebook</a>'\n",
              "            + ' to learn more about interactive tables.';\n",
              "          element.innerHTML = '';\n",
              "          dataTable['output_type'] = 'display_data';\n",
              "          await google.colab.output.renderOutput(dataTable, element);\n",
              "          const docLink = document.createElement('div');\n",
              "          docLink.innerHTML = docLinkHtml;\n",
              "          element.appendChild(docLink);\n",
              "        }\n",
              "      </script>\n",
              "    </div>\n",
              "  </div>\n",
              "  "
            ]
          },
          "metadata": {},
          "execution_count": 3
        }
      ]
    },
    {
      "cell_type": "code",
      "source": [
        "import tensorflow\n",
        "from tensorflow import keras\n",
        "from keras import Sequential\n",
        "from keras.layers import Dense"
      ],
      "metadata": {
        "id": "aVKqBnSc1tbb"
      },
      "execution_count": 6,
      "outputs": []
    },
    {
      "cell_type": "code",
      "source": [
        "model=Sequential()\n",
        "model.add(Dense(2,activation='sigmoid',input_dim=2))\n",
        "model.add(Dense(1,activation='sigmoid'))"
      ],
      "metadata": {
        "id": "Zvm_baWO17NR"
      },
      "execution_count": 8,
      "outputs": []
    },
    {
      "cell_type": "code",
      "source": [
        "model.summary()"
      ],
      "metadata": {
        "colab": {
          "base_uri": "https://localhost:8080/"
        },
        "id": "sH9QpjFB2HE0",
        "outputId": "decc3699-5126-4e24-c4c8-720d2512cc70"
      },
      "execution_count": 9,
      "outputs": [
        {
          "output_type": "stream",
          "name": "stdout",
          "text": [
            "Model: \"sequential_1\"\n",
            "_________________________________________________________________\n",
            " Layer (type)                Output Shape              Param #   \n",
            "=================================================================\n",
            " dense (Dense)               (None, 2)                 6         \n",
            "                                                                 \n",
            " dense_1 (Dense)             (None, 1)                 3         \n",
            "                                                                 \n",
            "=================================================================\n",
            "Total params: 9\n",
            "Trainable params: 9\n",
            "Non-trainable params: 0\n",
            "_________________________________________________________________\n"
          ]
        }
      ]
    },
    {
      "cell_type": "code",
      "source": [
        "model.get_weights()"
      ],
      "metadata": {
        "colab": {
          "base_uri": "https://localhost:8080/"
        },
        "id": "58kAT_W42e6A",
        "outputId": "b5f70cf5-00c5-4f86-fc24-325cb919535e"
      },
      "execution_count": 10,
      "outputs": [
        {
          "output_type": "execute_result",
          "data": {
            "text/plain": [
              "[array([[-0.7027576 ,  0.21974981],\n",
              "        [ 0.22329068, -0.99626887]], dtype=float32),\n",
              " array([0., 0.], dtype=float32),\n",
              " array([[0.4133786 ],\n",
              "        [0.40908575]], dtype=float32),\n",
              " array([0.], dtype=float32)]"
            ]
          },
          "metadata": {},
          "execution_count": 10
        }
      ]
    },
    {
      "cell_type": "code",
      "source": [
        "opt=keras.optimizers.Adam(learning_rate=0.001)\n",
        "model.compile(loss='binary_crossentropy',optimizer=opt)"
      ],
      "metadata": {
        "id": "4WTIYUp92kEk"
      },
      "execution_count": 12,
      "outputs": []
    },
    {
      "cell_type": "code",
      "source": [
        "model.fit(df.iloc[:,:-1].values,df['placed'].values,epochs=60,verbose=1,batch_size=1)"
      ],
      "metadata": {
        "colab": {
          "base_uri": "https://localhost:8080/"
        },
        "id": "jXggL9Au2xDw",
        "outputId": "9ce6dc0b-1049-48b1-e960-5418fadaaed4"
      },
      "execution_count": 15,
      "outputs": [
        {
          "output_type": "stream",
          "name": "stdout",
          "text": [
            "Epoch 1/60\n",
            "4/4 [==============================] - 0s 6ms/step - loss: 0.6985\n",
            "Epoch 2/60\n",
            "4/4 [==============================] - 0s 5ms/step - loss: 0.6985\n",
            "Epoch 3/60\n",
            "4/4 [==============================] - 0s 6ms/step - loss: 0.6984\n",
            "Epoch 4/60\n",
            "4/4 [==============================] - 0s 5ms/step - loss: 0.6983\n",
            "Epoch 5/60\n",
            "4/4 [==============================] - 0s 5ms/step - loss: 0.6982\n",
            "Epoch 6/60\n",
            "4/4 [==============================] - 0s 6ms/step - loss: 0.6981\n",
            "Epoch 7/60\n",
            "4/4 [==============================] - 0s 5ms/step - loss: 0.6980\n",
            "Epoch 8/60\n",
            "4/4 [==============================] - 0s 5ms/step - loss: 0.6980\n",
            "Epoch 9/60\n",
            "4/4 [==============================] - 0s 5ms/step - loss: 0.6979\n",
            "Epoch 10/60\n",
            "4/4 [==============================] - 0s 6ms/step - loss: 0.6978\n",
            "Epoch 11/60\n",
            "4/4 [==============================] - 0s 4ms/step - loss: 0.6977\n",
            "Epoch 12/60\n",
            "4/4 [==============================] - 0s 6ms/step - loss: 0.6976\n",
            "Epoch 13/60\n",
            "4/4 [==============================] - 0s 6ms/step - loss: 0.6975\n",
            "Epoch 14/60\n",
            "4/4 [==============================] - 0s 5ms/step - loss: 0.6975\n",
            "Epoch 15/60\n",
            "4/4 [==============================] - 0s 5ms/step - loss: 0.6974\n",
            "Epoch 16/60\n",
            "4/4 [==============================] - 0s 4ms/step - loss: 0.6973\n",
            "Epoch 17/60\n",
            "4/4 [==============================] - 0s 5ms/step - loss: 0.6973\n",
            "Epoch 18/60\n",
            "4/4 [==============================] - 0s 5ms/step - loss: 0.6972\n",
            "Epoch 19/60\n",
            "4/4 [==============================] - 0s 5ms/step - loss: 0.6971\n",
            "Epoch 20/60\n",
            "4/4 [==============================] - 0s 5ms/step - loss: 0.6970\n",
            "Epoch 21/60\n",
            "4/4 [==============================] - 0s 4ms/step - loss: 0.6970\n",
            "Epoch 22/60\n",
            "4/4 [==============================] - 0s 5ms/step - loss: 0.6969\n",
            "Epoch 23/60\n",
            "4/4 [==============================] - 0s 5ms/step - loss: 0.6968\n",
            "Epoch 24/60\n",
            "4/4 [==============================] - 0s 5ms/step - loss: 0.6968\n",
            "Epoch 25/60\n",
            "4/4 [==============================] - 0s 5ms/step - loss: 0.6967\n",
            "Epoch 26/60\n",
            "4/4 [==============================] - 0s 5ms/step - loss: 0.6967\n",
            "Epoch 27/60\n",
            "4/4 [==============================] - 0s 7ms/step - loss: 0.6966\n",
            "Epoch 28/60\n",
            "4/4 [==============================] - 0s 4ms/step - loss: 0.6966\n",
            "Epoch 29/60\n",
            "4/4 [==============================] - 0s 5ms/step - loss: 0.6965\n",
            "Epoch 30/60\n",
            "4/4 [==============================] - 0s 5ms/step - loss: 0.6965\n",
            "Epoch 31/60\n",
            "4/4 [==============================] - 0s 5ms/step - loss: 0.6964\n",
            "Epoch 32/60\n",
            "4/4 [==============================] - 0s 5ms/step - loss: 0.6964\n",
            "Epoch 33/60\n",
            "4/4 [==============================] - 0s 5ms/step - loss: 0.6963\n",
            "Epoch 34/60\n",
            "4/4 [==============================] - 0s 5ms/step - loss: 0.6963\n",
            "Epoch 35/60\n",
            "4/4 [==============================] - 0s 5ms/step - loss: 0.6963\n",
            "Epoch 36/60\n",
            "4/4 [==============================] - 0s 6ms/step - loss: 0.6962\n",
            "Epoch 37/60\n",
            "4/4 [==============================] - 0s 6ms/step - loss: 0.6961\n",
            "Epoch 38/60\n",
            "4/4 [==============================] - 0s 5ms/step - loss: 0.6961\n",
            "Epoch 39/60\n",
            "4/4 [==============================] - 0s 6ms/step - loss: 0.6960\n",
            "Epoch 40/60\n",
            "4/4 [==============================] - 0s 5ms/step - loss: 0.6960\n",
            "Epoch 41/60\n",
            "4/4 [==============================] - 0s 5ms/step - loss: 0.6959\n",
            "Epoch 42/60\n",
            "4/4 [==============================] - 0s 5ms/step - loss: 0.6959\n",
            "Epoch 43/60\n",
            "4/4 [==============================] - 0s 5ms/step - loss: 0.6959\n",
            "Epoch 44/60\n",
            "4/4 [==============================] - 0s 5ms/step - loss: 0.6958\n",
            "Epoch 45/60\n",
            "4/4 [==============================] - 0s 5ms/step - loss: 0.6958\n",
            "Epoch 46/60\n",
            "4/4 [==============================] - 0s 6ms/step - loss: 0.6958\n",
            "Epoch 47/60\n",
            "4/4 [==============================] - 0s 5ms/step - loss: 0.6957\n",
            "Epoch 48/60\n",
            "4/4 [==============================] - 0s 7ms/step - loss: 0.6957\n",
            "Epoch 49/60\n",
            "4/4 [==============================] - 0s 5ms/step - loss: 0.6957\n",
            "Epoch 50/60\n",
            "4/4 [==============================] - 0s 5ms/step - loss: 0.6957\n",
            "Epoch 51/60\n",
            "4/4 [==============================] - 0s 4ms/step - loss: 0.6956\n",
            "Epoch 52/60\n",
            "4/4 [==============================] - 0s 7ms/step - loss: 0.6956\n",
            "Epoch 53/60\n",
            "4/4 [==============================] - 0s 6ms/step - loss: 0.6956\n",
            "Epoch 54/60\n",
            "4/4 [==============================] - 0s 5ms/step - loss: 0.6955\n",
            "Epoch 55/60\n",
            "4/4 [==============================] - 0s 5ms/step - loss: 0.6955\n",
            "Epoch 56/60\n",
            "4/4 [==============================] - 0s 6ms/step - loss: 0.6954\n",
            "Epoch 57/60\n",
            "4/4 [==============================] - 0s 6ms/step - loss: 0.6954\n",
            "Epoch 58/60\n",
            "4/4 [==============================] - 0s 5ms/step - loss: 0.6954\n",
            "Epoch 59/60\n",
            "4/4 [==============================] - 0s 5ms/step - loss: 0.6953\n",
            "Epoch 60/60\n",
            "4/4 [==============================] - 0s 4ms/step - loss: 0.6953\n"
          ]
        },
        {
          "output_type": "execute_result",
          "data": {
            "text/plain": [
              "<keras.callbacks.History at 0x7f6a401fa280>"
            ]
          },
          "metadata": {},
          "execution_count": 15
        }
      ]
    },
    {
      "cell_type": "code",
      "source": [],
      "metadata": {
        "id": "Rbbz6o113Rab"
      },
      "execution_count": null,
      "outputs": []
    }
  ]
}